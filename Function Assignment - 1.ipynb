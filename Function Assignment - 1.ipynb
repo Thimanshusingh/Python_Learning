{
 "cells": [
  {
   "cell_type": "markdown",
   "id": "7fb7fa24-cada-405a-8471-2b78aa75ffab",
   "metadata": {},
   "source": [
    "Q1. Which keyword is used to create a function? Create a function to return a list of odd numbers in the\n",
    "range of 1 to 25."
   ]
  },
  {
   "cell_type": "code",
   "execution_count": 31,
   "id": "fcc44cd9-9ba8-47ac-96fd-35f7b2de2940",
   "metadata": {},
   "outputs": [],
   "source": [
    "# 'def' keyword is used to create a function.\n",
    "\n",
    "def odd_num():\n",
    "    l = []\n",
    "    for i in range(1,25):\n",
    "        if i%2 != 0:\n",
    "            l.append(i)\n",
    "    return l"
   ]
  },
  {
   "cell_type": "code",
   "execution_count": 32,
   "id": "6ce19268-0da0-44b9-b718-717327c55b42",
   "metadata": {},
   "outputs": [
    {
     "data": {
      "text/plain": [
       "[1, 3, 5, 7, 9, 11, 13, 15, 17, 19, 21, 23]"
      ]
     },
     "execution_count": 32,
     "metadata": {},
     "output_type": "execute_result"
    }
   ],
   "source": [
    "odd_num() # list of odd numbers"
   ]
  },
  {
   "cell_type": "markdown",
   "id": "b86be1be-cf32-4af0-a30e-f0238ae4852c",
   "metadata": {},
   "source": [
    "Q2. Why *args and **kwargs is used in some functions? Create a function each for *args and **kwargs\n",
    "to demonstrate their use."
   ]
  },
  {
   "cell_type": "raw",
   "id": "d3854b48-191d-4893-9a31-03ee0b607902",
   "metadata": {},
   "source": [
    "* args - used to enter 'n' numbers of argument we put in any function.\n",
    "** kwargs - This is called keywords arguments, which is used to put multiple data in dictionary type."
   ]
  },
  {
   "cell_type": "code",
   "execution_count": 34,
   "id": "7decf57c-b274-4121-a380-82d20f49419c",
   "metadata": {},
   "outputs": [],
   "source": [
    "# function with use of *args\n",
    "\n",
    "def arguments_arg(*args):\n",
    "    return args"
   ]
  },
  {
   "cell_type": "code",
   "execution_count": 37,
   "id": "85b5a168-27b8-4150-99d1-ec4a553d21c4",
   "metadata": {},
   "outputs": [
    {
     "data": {
      "text/plain": [
       "(1, 2, 5, 7, 8, 9)"
      ]
     },
     "execution_count": 37,
     "metadata": {},
     "output_type": "execute_result"
    }
   ],
   "source": [
    "arguments_arg(1,2,5,7,8,9) # here we put n number of argument and got result in tuple data type."
   ]
  },
  {
   "cell_type": "code",
   "execution_count": 38,
   "id": "8c0c685d-1120-411f-ba37-a3db993440d3",
   "metadata": {},
   "outputs": [],
   "source": [
    "def argument_kwarg(**kwargs):\n",
    "    return kwargs"
   ]
  },
  {
   "cell_type": "code",
   "execution_count": 39,
   "id": "8448d55b-c937-4350-88df-537d8ce4f0b2",
   "metadata": {},
   "outputs": [
    {
     "data": {
      "text/plain": [
       "{'name': 'Himanshu', 'course': 'data science'}"
      ]
     },
     "execution_count": 39,
     "metadata": {},
     "output_type": "execute_result"
    }
   ],
   "source": [
    "argument_kwarg(name = 'Himanshu' , course = 'data science')"
   ]
  },
  {
   "cell_type": "code",
   "execution_count": 40,
   "id": "ab3ee023-3d64-4aa6-b386-7605251bad3c",
   "metadata": {},
   "outputs": [
    {
     "data": {
      "text/plain": [
       "dict"
      ]
     },
     "execution_count": 40,
     "metadata": {},
     "output_type": "execute_result"
    }
   ],
   "source": [
    "type(argument_kwarg()) "
   ]
  },
  {
   "cell_type": "markdown",
   "id": "da89f8be-d3f3-488f-9b65-7bf8e956f72f",
   "metadata": {},
   "source": [
    "Q3. What is an iterator in python? Name the method used to initialise the iterator object and the method\n",
    "used for iteration. Use these methods to print the first five elements of the given list [2, 4, 6, 8, 10, 12, 14,\n",
    "16, 18, 20]."
   ]
  },
  {
   "cell_type": "code",
   "execution_count": 7,
   "id": "a6520d26-397b-4407-a879-6e8b77d23c76",
   "metadata": {},
   "outputs": [
    {
     "name": "stdout",
     "output_type": "stream",
     "text": [
      "[2, 4, 6, 8, 10]\n"
     ]
    }
   ],
   "source": [
    "# Iterator is a function which is use to iterate the values of from the data type like list , tuple , sets.\n",
    "# method use to initialise the iterator objects iter() function and next method for iteration.\n",
    "\n",
    "l = [2,4,6,8,10,12,14,16,18,20]\n",
    "l1=[]\n",
    "for i in l:\n",
    "    l1.append(i)\n",
    "print (l[:5])"
   ]
  },
  {
   "cell_type": "markdown",
   "id": "0df46656-6327-44c2-95ea-99a781a5b3e4",
   "metadata": {},
   "source": [
    "Q4. What is a generator function in python? Why yield keyword is used? Give an example of a generator\n",
    "function."
   ]
  },
  {
   "cell_type": "code",
   "execution_count": 1,
   "id": "309a710c-2dc5-4829-8b09-f33dc51114af",
   "metadata": {},
   "outputs": [],
   "source": [
    "# Generator function are those functions which is used to create iterator function like range() function.\n",
    "# yield keyword is used to work the function like iterator. It will gererate the objects and return dont hold the result till complition.\n",
    "\n",
    "def count_test(n): # count generator function\n",
    "    count =0\n",
    "    while count < n:\n",
    "        yield count\n",
    "        count = count +1"
   ]
  },
  {
   "cell_type": "code",
   "execution_count": 6,
   "id": "706a5ca3-6a08-43ae-8588-ae8fe5f62462",
   "metadata": {},
   "outputs": [],
   "source": [
    "a= count_test(10)"
   ]
  },
  {
   "cell_type": "code",
   "execution_count": 7,
   "id": "5e6f9ad5-b87a-4daf-8564-3dd69d4082f5",
   "metadata": {},
   "outputs": [
    {
     "name": "stdout",
     "output_type": "stream",
     "text": [
      "0 1 2 3 4 5 6 7 8 9 "
     ]
    }
   ],
   "source": [
    "for i in a:  # use for loop for iteration of the function.\n",
    "    print(i , end =' ')\n"
   ]
  },
  {
   "cell_type": "markdown",
   "id": "844e0ab2-e08f-47a7-aed1-dcc46d609df8",
   "metadata": {},
   "source": [
    "Q5. Create a generator function for prime numbers less than 1000. Use the next() method to print the\n",
    "first 20 prime numbers."
   ]
  },
  {
   "cell_type": "code",
   "execution_count": 7,
   "id": "d5854ee2-1d1d-404d-8ccf-1bee9419fa6a",
   "metadata": {},
   "outputs": [
    {
     "name": "stdout",
     "output_type": "stream",
     "text": [
      "2 3 5 7 11 13 17 19 23 29 31 37 41 43 47 53 59 61 67 71 "
     ]
    }
   ],
   "source": [
    "def is_prime(n):\n",
    "    if n <= 1:\n",
    "        return False\n",
    "    if n <= 3:\n",
    "        return True\n",
    "    if n % 2 == 0 or n % 3 == 0:\n",
    "        return False\n",
    "    i = 5\n",
    "    while i * i <= n:\n",
    "        if n % i == 0 or n % (i + 2) == 0:\n",
    "            return False\n",
    "        i += 6\n",
    "    return True\n",
    "\n",
    "def prime_generator():\n",
    "    n = 2\n",
    "    while n < 1000:\n",
    "        if is_prime(n):\n",
    "            yield n\n",
    "        n += 1\n",
    "\n",
    "# Create a generator object\n",
    "prime_gen = prime_generator()\n",
    "\n",
    "# Print the first 20 prime numbers\n",
    "for _ in range(20):\n",
    "    print(next(prime_gen), end = ' ')\n"
   ]
  },
  {
   "cell_type": "markdown",
   "id": "84c2e57d-bee5-42a9-ba52-93e3c5c15ef7",
   "metadata": {},
   "source": [
    "Q6. Write a python program to print the first 10 Fibonacci numbers using a while loop."
   ]
  },
  {
   "cell_type": "code",
   "execution_count": 3,
   "id": "52017eac-b22f-4586-bb5f-a3507a933690",
   "metadata": {},
   "outputs": [
    {
     "name": "stdout",
     "output_type": "stream",
     "text": [
      "0 1 1 2 3 5 8 13 21 34 "
     ]
    }
   ],
   "source": [
    "a , b = 0 , 1\n",
    "count = 0\n",
    "\n",
    "while count < 10:\n",
    "    print(a, end = ' ')\n",
    "    a , b = b , a + b \n",
    "    count += 1"
   ]
  },
  {
   "cell_type": "markdown",
   "id": "897469a8-07b2-4d00-9a8d-73ab9da6b42c",
   "metadata": {},
   "source": [
    "Q7. Write a List Comprehension to iterate through the given string: ‘pwskills’.\n",
    "Expected output: ['p', 'w', 's', 'k', 'i', 'l', 'l', 's']"
   ]
  },
  {
   "cell_type": "code",
   "execution_count": 8,
   "id": "1dfea484-695e-4ecc-a1d5-3c9cbab69018",
   "metadata": {},
   "outputs": [],
   "source": [
    "s = 'pwskills'\n",
    "output = []\n",
    "for i in s:\n",
    "    output.append(i)"
   ]
  },
  {
   "cell_type": "code",
   "execution_count": 11,
   "id": "10d3dc61-67fc-4281-ade2-0d86fa7288f7",
   "metadata": {},
   "outputs": [
    {
     "data": {
      "text/plain": [
       "['p', 'w', 's', 'k', 'i', 'l', 'l', 's']"
      ]
     },
     "execution_count": 11,
     "metadata": {},
     "output_type": "execute_result"
    }
   ],
   "source": [
    "output"
   ]
  },
  {
   "cell_type": "markdown",
   "id": "5ba57244-a681-4e37-818b-b994183a7a42",
   "metadata": {},
   "source": [
    "Q8. Write a python program to check whether a given number is Palindrome or not using a while loop.\n"
   ]
  },
  {
   "cell_type": "code",
   "execution_count": 1,
   "id": "5eb7c609-d37d-4b58-b205-0a53bc5dc4e9",
   "metadata": {},
   "outputs": [
    {
     "name": "stdout",
     "output_type": "stream",
     "text": [
      "121 is palindrome: True\n",
      "12345 is palindrome: False\n"
     ]
    }
   ],
   "source": [
    "def is_palindrome(number):\n",
    "    temp = number\n",
    "    reverse = 0\n",
    "    while temp > 0:\n",
    "        digit = temp % 10\n",
    "        reverse = reverse * 10 + digit\n",
    "        temp //= 10\n",
    "    if number == reverse:\n",
    "        return True\n",
    "    else:\n",
    "        return False\n",
    "\n",
    "# Test the function with some numbers\n",
    "num1 = 121\n",
    "num2 = 12345\n",
    "\n",
    "print(f\"{num1} is palindrome: {is_palindrome(num1)}\")\n",
    "print(f\"{num2} is palindrome: {is_palindrome(num2)}\")\n",
    "\n",
    "    "
   ]
  },
  {
   "cell_type": "markdown",
   "id": "1e61f0ec-27ed-452b-8223-dcaf84d2bfda",
   "metadata": {},
   "source": [
    "Q9. Write a code to print odd numbers from 1 to 100 using list comprehension. Note: Use a list comprehension to create a list from 1 to 100 and use another List comprehension to filter out odd numbers."
   ]
  },
  {
   "cell_type": "code",
   "execution_count": 2,
   "id": "f56c375e-46f2-4345-bcc3-8209ea88cc5a",
   "metadata": {},
   "outputs": [
    {
     "name": "stdout",
     "output_type": "stream",
     "text": [
      "[1, 3, 5, 7, 9, 11, 13, 15, 17, 19, 21, 23, 25, 27, 29, 31, 33, 35, 37, 39, 41, 43, 45, 47, 49, 51, 53, 55, 57, 59, 61, 63, 65, 67, 69, 71, 73, 75, 77, 79, 81, 83, 85, 87, 89, 91, 93, 95, 97, 99]\n"
     ]
    }
   ],
   "source": [
    "# Generate a list from 1 to 100\n",
    "numbers = [x for x in range(1, 101)]\n",
    "\n",
    "# Use another list comprehension to filter out odd numbers\n",
    "odd_numbers = [x for x in numbers if x % 2 != 0]\n",
    "\n",
    "# Print the list of odd numbers\n",
    "print(odd_numbers)\n"
   ]
  },
  {
   "cell_type": "code",
   "execution_count": null,
   "id": "1d7f12c0-02fb-4d1d-9a38-335b3bfa2ea1",
   "metadata": {},
   "outputs": [],
   "source": []
  }
 ],
 "metadata": {
  "kernelspec": {
   "display_name": "Python 3 (ipykernel)",
   "language": "python",
   "name": "python3"
  },
  "language_info": {
   "codemirror_mode": {
    "name": "ipython",
    "version": 3
   },
   "file_extension": ".py",
   "mimetype": "text/x-python",
   "name": "python",
   "nbconvert_exporter": "python",
   "pygments_lexer": "ipython3",
   "version": "3.10.8"
  }
 },
 "nbformat": 4,
 "nbformat_minor": 5
}
