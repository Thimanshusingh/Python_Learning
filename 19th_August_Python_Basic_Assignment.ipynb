{
 "cells": [
  {
   "cell_type": "markdown",
   "id": "7dcdb3dc-4bc4-4956-9f09-8334fe5a1e4c",
   "metadata": {},
   "source": [
    "Topic- Python Basic Variables"
   ]
  },
  {
   "cell_type": "markdown",
   "id": "588d62dc-5899-4762-ae34-df956ed2ed89",
   "metadata": {},
   "source": [
    "1. Declare two variables, `x` and `y`, and assign them integer values. Swap the\n",
    "values of these variables without using any temporary variable."
   ]
  },
  {
   "cell_type": "code",
   "execution_count": 14,
   "id": "d131eb69-42fa-49ac-98f4-42f9c8290130",
   "metadata": {},
   "outputs": [],
   "source": [
    "x=5\n",
    "y=10"
   ]
  },
  {
   "cell_type": "code",
   "execution_count": 15,
   "id": "a1afa731-54b1-40b1-bb7a-63826440d736",
   "metadata": {},
   "outputs": [
    {
     "name": "stdout",
     "output_type": "stream",
     "text": [
      "5 10\n"
     ]
    }
   ],
   "source": [
    "print(x,y) #created two variables with int values."
   ]
  },
  {
   "cell_type": "code",
   "execution_count": 16,
   "id": "59bd14f3-7b72-4bb3-b597-3ea48a2fd3c1",
   "metadata": {},
   "outputs": [],
   "source": [
    "x,y=y,x"
   ]
  },
  {
   "cell_type": "code",
   "execution_count": 17,
   "id": "5c649dda-6b00-46dc-91ab-2ed58c5114a4",
   "metadata": {},
   "outputs": [
    {
     "name": "stdout",
     "output_type": "stream",
     "text": [
      "10\n"
     ]
    }
   ],
   "source": [
    "print(x) #now value of x which was 5 now its swapped by y and now its 10."
   ]
  },
  {
   "cell_type": "code",
   "execution_count": 18,
   "id": "a99b7240-5dec-474e-a9f9-922c808af5ae",
   "metadata": {},
   "outputs": [
    {
     "name": "stdout",
     "output_type": "stream",
     "text": [
      "5\n"
     ]
    }
   ],
   "source": [
    "print(y)"
   ]
  },
  {
   "cell_type": "markdown",
   "id": "f780fbea-7d56-486b-963a-5d99cb53efa0",
   "metadata": {},
   "source": [
    "2. Create a program that calculates the area of a rectangle. Take the length and\n",
    "width as inputs from the user and store them in variables. Calculate and\n",
    "display the area."
   ]
  },
  {
   "cell_type": "code",
   "execution_count": 4,
   "id": "0ea85276-d0e5-4133-9137-cc0fd443e195",
   "metadata": {},
   "outputs": [
    {
     "name": "stdin",
     "output_type": "stream",
     "text": [
      "Enter the length of Rectangle is 42.12\n",
      "Enter the Width of Rectangle is 45\n"
     ]
    },
    {
     "name": "stdout",
     "output_type": "stream",
     "text": [
      "Area of Rectange is = 1895.3999999999999\n"
     ]
    }
   ],
   "source": [
    "l= float(input(\"Enter the length of Rectangle is\")) \n",
    "w= float(input('Enter the Width of Rectangle is'))\n",
    "print('Area of Rectange is =', l*w)"
   ]
  },
  {
   "cell_type": "markdown",
   "id": "df2479be-29a5-4ecb-812d-0381b0de2390",
   "metadata": {},
   "source": [
    "3. Write a Python program that converts temperatures from Celsius to\n",
    "Fahrenheit. Take the temperature in Celsius as input, store it in a variable,\n",
    "convert it to Fahrenheit, and display the result."
   ]
  },
  {
   "cell_type": "code",
   "execution_count": 3,
   "id": "a51bd188-fb69-4cdc-bdde-d4de4eead1db",
   "metadata": {},
   "outputs": [
    {
     "name": "stdin",
     "output_type": "stream",
     "text": [
      "Enter temperature in °C 101\n"
     ]
    },
    {
     "name": "stdout",
     "output_type": "stream",
     "text": [
      "°F= 213.8\n"
     ]
    }
   ],
   "source": [
    "Celsius=float(input(\"Enter temperature in °C\")) \n",
    "print(\"°F=\",Celsius*9/5+32)\n",
    "            "
   ]
  },
  {
   "cell_type": "markdown",
   "id": "41da67d4-4c62-4a1b-ad03-f99d7878d80e",
   "metadata": {},
   "source": [
    "Topic- String Based Question"
   ]
  },
  {
   "cell_type": "markdown",
   "id": "4dd6fa81-b9c9-42e1-89c6-d397bff678f7",
   "metadata": {},
   "source": [
    "1. Write a Python program that takes a string as input and prints the length of\n",
    "the string."
   ]
  },
  {
   "cell_type": "code",
   "execution_count": 2,
   "id": "33c0c9af-dc47-475d-9b2d-e7d3bca0e5b8",
   "metadata": {},
   "outputs": [
    {
     "name": "stdin",
     "output_type": "stream",
     "text": [
      "Your String Durgesh\n"
     ]
    },
    {
     "name": "stdout",
     "output_type": "stream",
     "text": [
      "7\n"
     ]
    }
   ],
   "source": [
    "a= input(\"Your String\")\n",
    "print(len(a))"
   ]
  },
  {
   "cell_type": "markdown",
   "id": "4cb46240-14a7-4c9b-bb22-cb95c5e425e0",
   "metadata": {},
   "source": [
    "2. Create a program that takes a sentence from the user and counts the number\n",
    "of vowels (a, e, i, o, u) in the string."
   ]
  },
  {
   "cell_type": "code",
   "execution_count": 12,
   "id": "57b69afb-d36b-4e47-a600-359d2f000894",
   "metadata": {},
   "outputs": [
    {
     "name": "stdin",
     "output_type": "stream",
     "text": [
      "Enter the Sentence to find out the number of vowels - AEIOU\n"
     ]
    },
    {
     "name": "stdout",
     "output_type": "stream",
     "text": [
      "Total no of a: 1\n",
      "Total no of e: 1\n",
      "Total no of i: 1\n",
      "Total no of o: 1\n",
      "Total no of u: 1\n",
      "Total no of Vowels 5\n"
     ]
    }
   ],
   "source": [
    "b= input(\"Enter the Sentence to find out the number of vowels -\")\n",
    "c=b.upper()\n",
    "Vowel_1=c.count('A')\n",
    "Vowel_2=c.count('E')\n",
    "Vowel_3=c.count('I')\n",
    "Vowel_4=c.count('O')\n",
    "Vowel_5=c.count('U')\n",
    "\n",
    "total=Vowel_1+Vowel_2+Vowel_3+Vowel_4+Vowel_5\n",
    "\n",
    "print('Total no of a:', Vowel_1)\n",
    "print('Total no of e:', Vowel_2)\n",
    "print('Total no of i:', Vowel_3)\n",
    "print('Total no of o:', Vowel_4)\n",
    "print('Total no of u:', Vowel_5)\n",
    "print('Total no of Vowels',total)\n"
   ]
  },
  {
   "cell_type": "markdown",
   "id": "97072c6b-02d8-44b9-8cd5-5fdb2459c0fa",
   "metadata": {},
   "source": [
    "3. Given a string, reverse the order of characters using string slicing and print\n",
    "the reversed string.\n"
   ]
  },
  {
   "cell_type": "code",
   "execution_count": 24,
   "id": "e82773ac-af2b-410d-b1f1-766fdf648168",
   "metadata": {},
   "outputs": [
    {
     "name": "stdin",
     "output_type": "stream",
     "text": [
      "Type the string - PWSKILLS\n"
     ]
    },
    {
     "name": "stdout",
     "output_type": "stream",
     "text": [
      "SLLIKSWP\n"
     ]
    }
   ],
   "source": [
    "z=input(\"Type the string -\")\n",
    "print(z[::-1])"
   ]
  },
  {
   "cell_type": "markdown",
   "id": "71b630ff-2a69-4d19-80a7-a1c6526c7548",
   "metadata": {},
   "source": [
    "4. Write a program that takes a string as input and checks if it is a palindrome\n",
    "(reads the same forwards and backwards)."
   ]
  },
  {
   "cell_type": "code",
   "execution_count": 78,
   "id": "2ebe41f4-c1cb-4e2c-9f33-addb52b36552",
   "metadata": {},
   "outputs": [
    {
     "name": "stdin",
     "output_type": "stream",
     "text": [
      "Type string to check if it is Palindrome madam\n"
     ]
    },
    {
     "name": "stdout",
     "output_type": "stream",
     "text": [
      "Its a Palindrome\n"
     ]
    }
   ],
   "source": [
    "reverse_input=input('Type string to check if it is Palindrome')\n",
    "if reverse_input==reverse_input[::-1]:\n",
    "    print('Its a Palindrome')\n",
    "else:\n",
    "    print('Its not a Palindrome')\n",
    "        "
   ]
  },
  {
   "cell_type": "markdown",
   "id": "8f5a39cb-491d-4d38-8e34-de05c88516c9",
   "metadata": {},
   "source": [
    "5. Create a program that takes a string as input and removes all the spaces from\n",
    "it. Print the modified string without spaces."
   ]
  },
  {
   "cell_type": "code",
   "execution_count": 77,
   "id": "867e6bb0-4b23-4ee9-9168-bc99d0bbaf05",
   "metadata": {},
   "outputs": [
    {
     "name": "stdin",
     "output_type": "stream",
     "text": [
      "Type string for remove all the spaces r a m\n"
     ]
    },
    {
     "name": "stdout",
     "output_type": "stream",
     "text": [
      "ram\n"
     ]
    }
   ],
   "source": [
    "string=input(\"Type string for remove all the spaces\")\n",
    "print(string.replace(' ',''))"
   ]
  }
 ],
 "metadata": {
  "kernelspec": {
   "display_name": "Python 3 (ipykernel)",
   "language": "python",
   "name": "python3"
  },
  "language_info": {
   "codemirror_mode": {
    "name": "ipython",
    "version": 3
   },
   "file_extension": ".py",
   "mimetype": "text/x-python",
   "name": "python",
   "nbconvert_exporter": "python",
   "pygments_lexer": "ipython3",
   "version": "3.10.8"
  }
 },
 "nbformat": 4,
 "nbformat_minor": 5
}
