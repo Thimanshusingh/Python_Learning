{
 "cells": [
  {
   "cell_type": "markdown",
   "id": "5279fda6-2140-455e-995e-204d61472f0c",
   "metadata": {},
   "source": [
    "Q1. How do you comment code in Python? What are the different types of comments?"
   ]
  },
  {
   "cell_type": "markdown",
   "id": "4d8a81ac-9a6a-49ef-94ae-f4ea888642f8",
   "metadata": {},
   "source": [
    "We do comment code in python for the notes, documentation or explanation.\n",
    "There are two type of comments:\n",
    "1. Using # for one line comment.\n",
    "2. Using \"\"\" for multi line comments \"\"\""
   ]
  },
  {
   "cell_type": "markdown",
   "id": "dea3af88-6415-455f-9f5d-f3e50c3fb92b",
   "metadata": {},
   "source": [
    "Q2. What are variables in Python? How do you declare and assign values to variables?"
   ]
  },
  {
   "cell_type": "markdown",
   "id": "e58ba8d4-2403-4820-883c-db34f55bbffc",
   "metadata": {},
   "source": [
    "Variables are used to store data in it. \n",
    "    Example for assign values to variables.\n",
    "    \n",
    "    A=45 -> here 'A' is variable and the value which it contains 45."
   ]
  },
  {
   "cell_type": "markdown",
   "id": "b7a53fb6-3c33-47c3-9e5e-f564189b3992",
   "metadata": {},
   "source": [
    "Q3. How do you convert one data type to another in Python?\n"
   ]
  },
  {
   "cell_type": "markdown",
   "id": "4145016d-4c99-4007-9298-5ed9f7a8d546",
   "metadata": {},
   "source": [
    "For conveting one data type to another in Python use Typecasting. "
   ]
  },
  {
   "cell_type": "code",
   "execution_count": 11,
   "id": "77a271d2-2f71-48b9-adaa-32bbc6c17eaf",
   "metadata": {},
   "outputs": [],
   "source": [
    "l=[2,5,9,'Himanshu']"
   ]
  },
  {
   "cell_type": "code",
   "execution_count": 12,
   "id": "8949a5ef-d903-4056-ba7a-552b293a140a",
   "metadata": {},
   "outputs": [
    {
     "data": {
      "text/plain": [
       "list"
      ]
     },
     "execution_count": 12,
     "metadata": {},
     "output_type": "execute_result"
    }
   ],
   "source": [
    "type (l) #here we put data in list data type."
   ]
  },
  {
   "cell_type": "code",
   "execution_count": 17,
   "id": "dc53c659-66b0-4fe4-8a87-c8d80fd88cbe",
   "metadata": {},
   "outputs": [
    {
     "name": "stdout",
     "output_type": "stream",
     "text": [
      "[2, 5, 9, 'Himanshu']\n"
     ]
    }
   ],
   "source": [
    "s=str(l) # here we change the data type from list to string.\n",
    "print(s) "
   ]
  },
  {
   "cell_type": "code",
   "execution_count": 18,
   "id": "b3651ce6-e89b-49eb-935a-2c7ad0a5f72c",
   "metadata": {},
   "outputs": [
    {
     "data": {
      "text/plain": [
       "str"
      ]
     },
     "execution_count": 18,
     "metadata": {},
     "output_type": "execute_result"
    }
   ],
   "source": [
    "type(s)"
   ]
  },
  {
   "cell_type": "markdown",
   "id": "4eec6d5f-5dc7-4f72-b479-6e5e2b886063",
   "metadata": {},
   "source": [
    "Q4. How do you write and execute a Python script from the command line?"
   ]
  },
  {
   "cell_type": "markdown",
   "id": "82fca079-c2bc-4bfb-871b-576c34f65a87",
   "metadata": {},
   "source": [
    "For writing a python script we can use notepad, once the code is written on that save the file with extension name .py\n",
    "because without this extention name system can't recognize what type of this file and what we want to do with the. Ex(mycode.py)\n",
    "After saving the file we can open our command prompt by hitting window + R and type cmd.\n",
    "Then run the file."
   ]
  },
  {
   "cell_type": "markdown",
   "id": "1c48aecc-defd-4d96-914e-1aadfb4499f8",
   "metadata": {},
   "source": [
    "Q5. Given a list my_list = [1, 2, 3, 4, 5], write the code to slice the list and obtain the sub-list [2, 3]."
   ]
  },
  {
   "cell_type": "code",
   "execution_count": 19,
   "id": "31f0302e-cbd9-4ace-9614-fcec75edbf28",
   "metadata": {},
   "outputs": [],
   "source": [
    "my_list=[1,2,3,4,5]"
   ]
  },
  {
   "cell_type": "code",
   "execution_count": 23,
   "id": "ec576db3-3e01-4a13-b0bb-c1cd03d988c4",
   "metadata": {},
   "outputs": [
    {
     "name": "stdout",
     "output_type": "stream",
     "text": [
      "[2, 3]\n"
     ]
    }
   ],
   "source": [
    "sub_list=my_list[1:3]\n",
    "print(sub_list)"
   ]
  },
  {
   "cell_type": "markdown",
   "id": "b9beb873-507e-4eb7-b89a-79dedafae91d",
   "metadata": {},
   "source": [
    "Q6. What is a complex number in mathematics, and how is it represented in Python?"
   ]
  },
  {
   "cell_type": "raw",
   "id": "2e06fa6d-5862-462f-b8e8-19c16a78db24",
   "metadata": {},
   "source": [
    "The complex number in mathematics is one number is real and other is imaginary number and same as python.\n",
    "for example : 1+3i ( i is indicate the imaginary number)\n",
    "but\n",
    "In python we denote imaginary by (j)\n",
    "for example : 1+3j (here 3j is imaginary number)"
   ]
  },
  {
   "cell_type": "markdown",
   "id": "9289da55-510d-4dc0-916d-9c62f0a652b1",
   "metadata": {},
   "source": [
    "Q7. What is the correct way to declare a variable named age and assign the value 25 to it?"
   ]
  },
  {
   "cell_type": "markdown",
   "id": "78856bf1-af1a-4fba-bab7-c77f1c0a9e72",
   "metadata": {},
   "source": [
    "For assigning variable for age and the value 25 is"
   ]
  },
  {
   "cell_type": "code",
   "execution_count": 26,
   "id": "1f59f51f-168e-4ed1-93ee-0b2674c2e345",
   "metadata": {},
   "outputs": [],
   "source": [
    "age=25"
   ]
  },
  {
   "cell_type": "markdown",
   "id": "db4d97a4-1092-463f-b78d-4a0b3d67b04e",
   "metadata": {},
   "source": [
    "Q8. Declare a variable named price and assign the value 9.99 to it. What data type does this variable\n",
    "belong to?"
   ]
  },
  {
   "cell_type": "code",
   "execution_count": 27,
   "id": "f8a1367d-51df-417f-a632-ab551e31383a",
   "metadata": {},
   "outputs": [],
   "source": [
    "price=9.99"
   ]
  },
  {
   "cell_type": "code",
   "execution_count": 28,
   "id": "22ca850a-4282-4252-9212-77334556d9a3",
   "metadata": {},
   "outputs": [
    {
     "data": {
      "text/plain": [
       "float"
      ]
     },
     "execution_count": 28,
     "metadata": {},
     "output_type": "execute_result"
    }
   ],
   "source": [
    "type(price) # the datatype the variable belongs is Float."
   ]
  },
  {
   "cell_type": "markdown",
   "id": "4f6263d9-3837-43b7-9294-c5222ce18ffe",
   "metadata": {},
   "source": [
    "Q9. Create a variable named name and assign your full name to it as a string. How would you print the\n",
    "value of this variable?"
   ]
  },
  {
   "cell_type": "code",
   "execution_count": 29,
   "id": "555d79cd-df08-4c1e-8818-fa0e3edcd74a",
   "metadata": {},
   "outputs": [],
   "source": [
    "name='Himanshu Singh' "
   ]
  },
  {
   "cell_type": "code",
   "execution_count": 34,
   "id": "f5accfd4-10cf-4325-a9c0-ba01b3a7e99e",
   "metadata": {},
   "outputs": [],
   "source": [
    "#there are multiple ways to print the value of variable."
   ]
  },
  {
   "cell_type": "code",
   "execution_count": 31,
   "id": "c1a23fbe-5e47-4246-bc36-8a60de521c30",
   "metadata": {},
   "outputs": [
    {
     "data": {
      "text/plain": [
       "'Himanshu Singh'"
      ]
     },
     "execution_count": 31,
     "metadata": {},
     "output_type": "execute_result"
    }
   ],
   "source": [
    "name # just call the variable."
   ]
  },
  {
   "cell_type": "code",
   "execution_count": 32,
   "id": "fb76ce3f-0415-4dd8-81cb-ebad6fee6daa",
   "metadata": {},
   "outputs": [
    {
     "name": "stdout",
     "output_type": "stream",
     "text": [
      "Himanshu Singh\n"
     ]
    }
   ],
   "source": [
    "print(name) # using the print function."
   ]
  },
  {
   "cell_type": "code",
   "execution_count": 33,
   "id": "46be4c37-66df-4fa4-8d52-a55721ba92b7",
   "metadata": {},
   "outputs": [
    {
     "data": {
      "text/plain": [
       "str"
      ]
     },
     "execution_count": 33,
     "metadata": {},
     "output_type": "execute_result"
    }
   ],
   "source": [
    "type(name) # data type is string."
   ]
  },
  {
   "cell_type": "markdown",
   "id": "248ac55a-2447-4ecb-8c50-ef55b353518d",
   "metadata": {},
   "source": [
    "Q10. Given the string \"Hello, World!\", extract the substring \"World\"."
   ]
  },
  {
   "cell_type": "code",
   "execution_count": 37,
   "id": "72e5acee-0575-48d0-b2aa-6c7c70a58a94",
   "metadata": {},
   "outputs": [
    {
     "name": "stdout",
     "output_type": "stream",
     "text": [
      "World\n"
     ]
    }
   ],
   "source": [
    "string=\"Hello, World!\"\n",
    "substring=string[7:12]\n",
    "print(substring)"
   ]
  },
  {
   "cell_type": "markdown",
   "id": "e023cf26-5c73-4791-924e-257b3cf49e66",
   "metadata": {},
   "source": [
    "Q11. Create a variable named \"is_student\" and assign it a boolean value indicating whether you are\n",
    "currently a student or not."
   ]
  },
  {
   "cell_type": "code",
   "execution_count": 43,
   "id": "e3821b7a-9c21-483d-aba7-a5bbc2c5a386",
   "metadata": {},
   "outputs": [],
   "source": [
    "is_student=True\n",
    "#or\n",
    "is_student=False"
   ]
  },
  {
   "cell_type": "code",
   "execution_count": null,
   "id": "b7732f04-55d6-4052-9bab-5aed1b48aa87",
   "metadata": {},
   "outputs": [],
   "source": []
  }
 ],
 "metadata": {
  "kernelspec": {
   "display_name": "Python 3 (ipykernel)",
   "language": "python",
   "name": "python3"
  },
  "language_info": {
   "codemirror_mode": {
    "name": "ipython",
    "version": 3
   },
   "file_extension": ".py",
   "mimetype": "text/x-python",
   "name": "python",
   "nbconvert_exporter": "python",
   "pygments_lexer": "ipython3",
   "version": "3.10.8"
  }
 },
 "nbformat": 4,
 "nbformat_minor": 5
}
