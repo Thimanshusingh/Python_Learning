{
 "cells": [
  {
   "cell_type": "markdown",
   "id": "d7b847c6-7f1c-4e9a-bd9f-d0716bb1f47a",
   "metadata": {},
   "source": [
    "Q1-Create one variable containing following type of data:\n",
    "\n",
    "(i) string\n",
    "\n",
    "(ii) list\n",
    "\n",
    "(iii) float\n",
    "\n",
    "(iv) tuple\n",
    "\n"
   ]
  },
  {
   "cell_type": "code",
   "execution_count": 9,
   "id": "6e1643ff-da5e-417a-85bd-820b530e238a",
   "metadata": {},
   "outputs": [],
   "source": [
    "a=\"Himanshu\""
   ]
  },
  {
   "cell_type": "code",
   "execution_count": 10,
   "id": "b3150ae3-c138-44eb-b5c8-1dbd8d388951",
   "metadata": {},
   "outputs": [
    {
     "data": {
      "text/plain": [
       "'Himanshu'"
      ]
     },
     "execution_count": 10,
     "metadata": {},
     "output_type": "execute_result"
    }
   ],
   "source": [
    "a"
   ]
  },
  {
   "cell_type": "code",
   "execution_count": 11,
   "id": "1ce40626-61ab-4c00-a7a9-aa32a6bdcc65",
   "metadata": {},
   "outputs": [
    {
     "data": {
      "text/plain": [
       "str"
      ]
     },
     "execution_count": 11,
     "metadata": {},
     "output_type": "execute_result"
    }
   ],
   "source": [
    "type (a)"
   ]
  },
  {
   "cell_type": "code",
   "execution_count": 6,
   "id": "d2c67311-1cf3-4494-80e3-0c351e3134e4",
   "metadata": {},
   "outputs": [],
   "source": [
    "b=[1,2,3,\"Himanshu\",24.25,]"
   ]
  },
  {
   "cell_type": "code",
   "execution_count": 7,
   "id": "b64fd289-fa6d-4bac-8df0-73406f7b4638",
   "metadata": {},
   "outputs": [
    {
     "data": {
      "text/plain": [
       "[1, 2, 3, 'Himanshu', 24.25]"
      ]
     },
     "execution_count": 7,
     "metadata": {},
     "output_type": "execute_result"
    }
   ],
   "source": [
    "b"
   ]
  },
  {
   "cell_type": "code",
   "execution_count": 8,
   "id": "54d3cfb5-e6a5-4ab4-b7de-52143b852925",
   "metadata": {},
   "outputs": [
    {
     "data": {
      "text/plain": [
       "list"
      ]
     },
     "execution_count": 8,
     "metadata": {},
     "output_type": "execute_result"
    }
   ],
   "source": [
    "type(b)"
   ]
  },
  {
   "cell_type": "code",
   "execution_count": 12,
   "id": "95843aab-e7c9-4174-a01d-32fbf91dab26",
   "metadata": {},
   "outputs": [],
   "source": [
    "c=12.25"
   ]
  },
  {
   "cell_type": "code",
   "execution_count": 13,
   "id": "b4a8bea1-d97d-4bb4-8448-8bd15e86d73b",
   "metadata": {},
   "outputs": [
    {
     "data": {
      "text/plain": [
       "12.25"
      ]
     },
     "execution_count": 13,
     "metadata": {},
     "output_type": "execute_result"
    }
   ],
   "source": [
    "c"
   ]
  },
  {
   "cell_type": "code",
   "execution_count": 14,
   "id": "0f0a16e7-41d6-4c00-95a4-2da939b6e692",
   "metadata": {},
   "outputs": [
    {
     "data": {
      "text/plain": [
       "float"
      ]
     },
     "execution_count": 14,
     "metadata": {},
     "output_type": "execute_result"
    }
   ],
   "source": [
    "type(c)"
   ]
  },
  {
   "cell_type": "code",
   "execution_count": 15,
   "id": "f7a92587-8d97-4c86-bff2-1c5969415a7a",
   "metadata": {},
   "outputs": [],
   "source": [
    "d=('Rahul','Shyam')"
   ]
  },
  {
   "cell_type": "code",
   "execution_count": 16,
   "id": "897f587a-7431-4ebb-b174-c791d2429d2d",
   "metadata": {},
   "outputs": [
    {
     "data": {
      "text/plain": [
       "('Rahul', 'Shyam')"
      ]
     },
     "execution_count": 16,
     "metadata": {},
     "output_type": "execute_result"
    }
   ],
   "source": [
    "d"
   ]
  },
  {
   "cell_type": "code",
   "execution_count": 17,
   "id": "b1441d5a-d008-4c79-99bb-dd7f80d337f3",
   "metadata": {},
   "outputs": [
    {
     "data": {
      "text/plain": [
       "tuple"
      ]
     },
     "execution_count": 17,
     "metadata": {},
     "output_type": "execute_result"
    }
   ],
   "source": [
    "type(d)"
   ]
  },
  {
   "cell_type": "markdown",
   "id": "e29802a0-2c24-4672-9fc3-8d0cb4708846",
   "metadata": {},
   "source": [
    "Q2. Given are some following variables containing data:\n",
    "\n",
    "(i)\tvar1 = ‘ ‘\n",
    "\n",
    "(ii)\tvar2 = ‘[ DS , ML , Python]’\n",
    "\n",
    "(iii)\tvar3 = [ ‘DS’ , ’ML’ , ‘Python’ ]\n",
    "\n",
    "(iv)\tvar4 = 1\n",
    "\n",
    "What will be the data type of the above given variable"
   ]
  },
  {
   "cell_type": "code",
   "execution_count": 20,
   "id": "a39045f3-d780-494b-af48-5c17212a7746",
   "metadata": {},
   "outputs": [],
   "source": [
    "var1 = 'Aman'"
   ]
  },
  {
   "cell_type": "code",
   "execution_count": 21,
   "id": "be701c51-7b5d-429b-9798-8310bd3dd91a",
   "metadata": {},
   "outputs": [
    {
     "data": {
      "text/plain": [
       "str"
      ]
     },
     "execution_count": 21,
     "metadata": {},
     "output_type": "execute_result"
    }
   ],
   "source": [
    "type(var1)"
   ]
  },
  {
   "cell_type": "code",
   "execution_count": 22,
   "id": "d367c15f-f068-4a8d-9d4f-45bb46e3ae72",
   "metadata": {},
   "outputs": [],
   "source": [
    "var2='[ DS , ML , Python]'"
   ]
  },
  {
   "cell_type": "code",
   "execution_count": 23,
   "id": "888c784a-d280-4932-b0fb-d862f226b4d5",
   "metadata": {},
   "outputs": [
    {
     "data": {
      "text/plain": [
       "str"
      ]
     },
     "execution_count": 23,
     "metadata": {},
     "output_type": "execute_result"
    }
   ],
   "source": [
    "type(var2)"
   ]
  },
  {
   "cell_type": "code",
   "execution_count": 25,
   "id": "1fed2531-129e-47a0-a175-5ae7dda6c80c",
   "metadata": {},
   "outputs": [],
   "source": [
    "var3 = [ 'DS' , 'ML' , 'Python' ]"
   ]
  },
  {
   "cell_type": "code",
   "execution_count": 26,
   "id": "d859e85e-29cc-411c-9d6d-b77a28e3b3ea",
   "metadata": {},
   "outputs": [
    {
     "data": {
      "text/plain": [
       "list"
      ]
     },
     "execution_count": 26,
     "metadata": {},
     "output_type": "execute_result"
    }
   ],
   "source": [
    "type(var3)"
   ]
  },
  {
   "cell_type": "code",
   "execution_count": 27,
   "id": "dda52a5a-d5ad-43af-b66f-1ef688195245",
   "metadata": {},
   "outputs": [],
   "source": [
    "var4=1"
   ]
  },
  {
   "cell_type": "code",
   "execution_count": 28,
   "id": "bc8e7141-5cf3-424f-bac7-920c8a7d649e",
   "metadata": {},
   "outputs": [
    {
     "data": {
      "text/plain": [
       "int"
      ]
     },
     "execution_count": 28,
     "metadata": {},
     "output_type": "execute_result"
    }
   ],
   "source": [
    "type(var4)"
   ]
  },
  {
   "cell_type": "markdown",
   "id": "d354eaeb-6dc5-47db-842c-29daf039d8e0",
   "metadata": {},
   "source": [
    "Q3. Explain the use of the following operators using an example:\n",
    "\n",
    "(i)\t/\n",
    "\n",
    "(ii)\t% \n",
    "\n",
    "(iii)\t//\n",
    "\n",
    "(iv)\t**"
   ]
  },
  {
   "cell_type": "code",
   "execution_count": 32,
   "id": "9084c461-5582-48ea-9fd2-f7e8f191b70a",
   "metadata": {},
   "outputs": [
    {
     "data": {
      "text/plain": [
       "2.0"
      ]
     },
     "execution_count": 32,
     "metadata": {},
     "output_type": "execute_result"
    }
   ],
   "source": [
    "10/5   #Its a arthmetic operator which is used for divide any two number."
   ]
  },
  {
   "cell_type": "code",
   "execution_count": 34,
   "id": "79b38c7e-8aa0-4486-9437-4ce4bb1506d2",
   "metadata": {},
   "outputs": [
    {
     "data": {
      "text/plain": [
       "5"
      ]
     },
     "execution_count": 34,
     "metadata": {},
     "output_type": "execute_result"
    }
   ],
   "source": [
    "5%10 # This is used to find out the reminder (Reminder operator)"
   ]
  },
  {
   "cell_type": "code",
   "execution_count": 35,
   "id": "a2dce0c9-4d19-4837-8b1e-391980c6ad8c",
   "metadata": {},
   "outputs": [
    {
     "data": {
      "text/plain": [
       "2"
      ]
     },
     "execution_count": 35,
     "metadata": {},
     "output_type": "execute_result"
    }
   ],
   "source": [
    "10//5  # this is used to find out the floor division."
   ]
  },
  {
   "cell_type": "code",
   "execution_count": 36,
   "id": "fdc1c453-5503-4e8f-a78c-a9538ce135a5",
   "metadata": {},
   "outputs": [
    {
     "data": {
      "text/plain": [
       "100000"
      ]
     },
     "execution_count": 36,
     "metadata": {},
     "output_type": "execute_result"
    }
   ],
   "source": [
    "10**5 # this is power operator (Exponentiation) used to find out the power of any number."
   ]
  },
  {
   "cell_type": "markdown",
   "id": "0677bf67-8807-4bbe-a043-de9d7eb65f59",
   "metadata": {},
   "source": [
    "Q4. Create a list of length 10 of your choice containing multiple types of data. Using for loop print the \n",
    "element and its data type."
   ]
  },
  {
   "cell_type": "code",
   "execution_count": 37,
   "id": "6c900b9a-4079-4ef7-9862-40b4f814bfa8",
   "metadata": {},
   "outputs": [],
   "source": [
    "l = [1,2,5,4,3, \"Himanshu\", 1.0,True,\"Rahul\",52.2]"
   ]
  },
  {
   "cell_type": "code",
   "execution_count": 47,
   "id": "c47162cf-07dc-4338-887b-495a6e97e865",
   "metadata": {},
   "outputs": [
    {
     "name": "stdout",
     "output_type": "stream",
     "text": [
      "[1, 2, 5, 4, 3, 'Himanshu', 1.0, True, 'Rahul', 52.2]\n",
      "[1, 2, 5, 4, 3, 'Himanshu', 1.0, True, 'Rahul', 52.2]\n",
      "[1, 2, 5, 4, 3, 'Himanshu', 1.0, True, 'Rahul', 52.2]\n",
      "[1, 2, 5, 4, 3, 'Himanshu', 1.0, True, 'Rahul', 52.2]\n",
      "[1, 2, 5, 4, 3, 'Himanshu', 1.0, True, 'Rahul', 52.2]\n",
      "[1, 2, 5, 4, 3, 'Himanshu', 1.0, True, 'Rahul', 52.2]\n",
      "[1, 2, 5, 4, 3, 'Himanshu', 1.0, True, 'Rahul', 52.2]\n",
      "[1, 2, 5, 4, 3, 'Himanshu', 1.0, True, 'Rahul', 52.2]\n",
      "[1, 2, 5, 4, 3, 'Himanshu', 1.0, True, 'Rahul', 52.2]\n",
      "[1, 2, 5, 4, 3, 'Himanshu', 1.0, True, 'Rahul', 52.2]\n"
     ]
    }
   ],
   "source": [
    "for i in l:\n",
    "    print(l)\n",
    "    "
   ]
  },
  {
   "cell_type": "code",
   "execution_count": 48,
   "id": "e2f96c5d-9e3f-4a89-9e9b-5a0e996f49a4",
   "metadata": {},
   "outputs": [
    {
     "data": {
      "text/plain": [
       "10"
      ]
     },
     "execution_count": 48,
     "metadata": {},
     "output_type": "execute_result"
    }
   ],
   "source": [
    "len(l)"
   ]
  },
  {
   "cell_type": "markdown",
   "id": "e264780e-643c-40b7-a16c-6edea078cf95",
   "metadata": {},
   "source": [
    "Q5. Using a while loop, verify if the number A is purely divisible by number B and if so then how many \n",
    "times it can be divisible."
   ]
  },
  {
   "cell_type": "code",
   "execution_count": null,
   "id": "75cb8d7c-d2c3-48ab-809d-8eb1a7e7e45f",
   "metadata": {},
   "outputs": [],
   "source": [
    "A=10\n",
    "B=5\n",
    "while A/B :\n",
    "    if A%B\n",
    "     print(A%B)\n",
    "    if A%B==0\n",
    "    break\n",
    "    \n",
    "else:\n",
    "    print(\"Wrong Input\")"
   ]
  },
  {
   "cell_type": "code",
   "execution_count": 72,
   "id": "22fcd1c4-6012-47d3-a8e4-8cce63811a06",
   "metadata": {},
   "outputs": [
    {
     "data": {
      "text/plain": [
       "0"
      ]
     },
     "execution_count": 72,
     "metadata": {},
     "output_type": "execute_result"
    }
   ],
   "source": [
    "A%B"
   ]
  },
  {
   "cell_type": "markdown",
   "id": "da191f3a-be3f-4b2b-94fb-0563191a79f1",
   "metadata": {},
   "source": [
    "Q6. Create a list containing 25 int type data. Using for loop and if-else condition print if the element is \n",
    "divisible by 3 or not."
   ]
  },
  {
   "cell_type": "code",
   "execution_count": 46,
   "id": "f847efb3-d6f4-4b73-ac7f-03a0825acdcf",
   "metadata": {},
   "outputs": [
    {
     "name": "stdout",
     "output_type": "stream",
     "text": [
      "element is not divisible by 3\n",
      "element is not divisible by 3\n",
      "element is divisible by 3\n",
      "element is not divisible by 3\n",
      "element is not divisible by 3\n",
      "element is divisible by 3\n",
      "element is not divisible by 3\n",
      "element is not divisible by 3\n",
      "element is divisible by 3\n",
      "element is not divisible by 3\n",
      "element is not divisible by 3\n",
      "element is divisible by 3\n",
      "element is not divisible by 3\n",
      "element is not divisible by 3\n",
      "element is divisible by 3\n",
      "element is not divisible by 3\n",
      "element is not divisible by 3\n",
      "element is divisible by 3\n",
      "element is not divisible by 3\n",
      "element is not divisible by 3\n",
      "element is divisible by 3\n",
      "element is not divisible by 3\n",
      "element is not divisible by 3\n",
      "element is divisible by 3\n",
      "element is not divisible by 3\n"
     ]
    }
   ],
   "source": [
    "z=list(range(1,26))\n",
    "for i in z:\n",
    "    if i%3==0:\n",
    "        print(\"element is divisible by 3\")\n",
    "    elif i%3 !=0:\n",
    "        print(\"element is not divisible by 3\")\n"
   ]
  },
  {
   "cell_type": "markdown",
   "id": "74a1069a-9fe9-40c1-9a19-bcdf857c57f4",
   "metadata": {},
   "source": [
    "Q7. What do you understand about mutable and immutable data types? Give examples for both showing \n",
    "this property"
   ]
  },
  {
   "cell_type": "markdown",
   "id": "3b831e18-0afd-4315-9cb8-abe140d0c5fe",
   "metadata": {},
   "source": [
    "### Mutable are those data types, where we change or modify the data which is assigned to their variable."
   ]
  },
  {
   "cell_type": "code",
   "execution_count": 66,
   "id": "d09f5de4-59ad-4e5f-bc1b-1afc068b8901",
   "metadata": {},
   "outputs": [],
   "source": [
    "a=[1,2,3,5,9,]"
   ]
  },
  {
   "cell_type": "code",
   "execution_count": 67,
   "id": "11219899-6cf7-4b0c-b25d-6f6734a24810",
   "metadata": {},
   "outputs": [
    {
     "data": {
      "text/plain": [
       "[1, 2, 3, 5, 9]"
      ]
     },
     "execution_count": 67,
     "metadata": {},
     "output_type": "execute_result"
    }
   ],
   "source": [
    "a"
   ]
  },
  {
   "cell_type": "code",
   "execution_count": 68,
   "id": "c39b63ba-ff23-4e07-9f8c-5a167802ac6c",
   "metadata": {},
   "outputs": [],
   "source": [
    "a[2] = 2"
   ]
  },
  {
   "cell_type": "code",
   "execution_count": 69,
   "id": "c7a3fbc0-6b19-422d-b9c4-1760d43081b8",
   "metadata": {},
   "outputs": [
    {
     "data": {
      "text/plain": [
       "[1, 2, 2, 5, 9]"
      ]
     },
     "execution_count": 69,
     "metadata": {},
     "output_type": "execute_result"
    }
   ],
   "source": [
    "a"
   ]
  },
  {
   "cell_type": "markdown",
   "id": "411e819e-796c-4025-915d-0fa5cbdce552",
   "metadata": {},
   "source": [
    "#Above we see that integer data type (int) will mutate and will change the index number 2 value from 3 to 2."
   ]
  },
  {
   "cell_type": "markdown",
   "id": "a7cf1905-a1a3-416d-871a-d1fc3e5bb4a6",
   "metadata": {},
   "source": [
    "Immutable are those data types, which we can not change or modify the data which is aggigned to their variable."
   ]
  },
  {
   "cell_type": "code",
   "execution_count": 70,
   "id": "6ca08f26-513b-4258-ab5c-c7725f8ad07a",
   "metadata": {},
   "outputs": [
    {
     "data": {
      "text/plain": [
       "[1, 2, 2, 5, 9]"
      ]
     },
     "execution_count": 70,
     "metadata": {},
     "output_type": "execute_result"
    }
   ],
   "source": [
    "a"
   ]
  },
  {
   "cell_type": "code",
   "execution_count": 71,
   "id": "d2a8fb52-5f83-48f0-8e89-5fced91ead31",
   "metadata": {},
   "outputs": [],
   "source": [
    "b='Rahul'"
   ]
  },
  {
   "cell_type": "code",
   "execution_count": 73,
   "id": "444596cd-c390-4339-acb3-f4d8f44f4a24",
   "metadata": {},
   "outputs": [
    {
     "ename": "TypeError",
     "evalue": "'str' object does not support item assignment",
     "output_type": "error",
     "traceback": [
      "\u001b[0;31m---------------------------------------------------------------------------\u001b[0m",
      "\u001b[0;31mTypeError\u001b[0m                                 Traceback (most recent call last)",
      "Cell \u001b[0;32mIn[73], line 1\u001b[0m\n\u001b[0;32m----> 1\u001b[0m \u001b[43mb\u001b[49m\u001b[43m[\u001b[49m\u001b[38;5;241;43m3\u001b[39;49m\u001b[43m]\u001b[49m\u001b[38;5;241m=\u001b[39m\u001b[38;5;124m\"\u001b[39m\u001b[38;5;124me\u001b[39m\u001b[38;5;124m\"\u001b[39m\n",
      "\u001b[0;31mTypeError\u001b[0m: 'str' object does not support item assignment"
     ]
    }
   ],
   "source": [
    "b[3]=\"e\""
   ]
  },
  {
   "cell_type": "markdown",
   "id": "894cec3e-3b05-41c0-aff6-96340e85eaf9",
   "metadata": {},
   "source": [
    "Above we see that string data type (str) is immutable, we can't change or modify the data in his variable"
   ]
  },
  {
   "cell_type": "code",
   "execution_count": null,
   "id": "5583871b-7fa4-4c86-a6aa-83bbbd8ae84c",
   "metadata": {},
   "outputs": [],
   "source": []
  }
 ],
 "metadata": {
  "kernelspec": {
   "display_name": "Python 3 (ipykernel)",
   "language": "python",
   "name": "python3"
  },
  "language_info": {
   "codemirror_mode": {
    "name": "ipython",
    "version": 3
   },
   "file_extension": ".py",
   "mimetype": "text/x-python",
   "name": "python",
   "nbconvert_exporter": "python",
   "pygments_lexer": "ipython3",
   "version": "3.10.8"
  }
 },
 "nbformat": 4,
 "nbformat_minor": 5
}
