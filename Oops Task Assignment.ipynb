{
 "cells": [
  {
   "cell_type": "markdown",
   "id": "fdbe7542-078a-4eef-9246-083e74be9b34",
   "metadata": {},
   "source": [
    "Q1, Create a vehicle class with an init method having instance variables as name_of_vehicle, max_speed\n",
    "and average_of_vehicle."
   ]
  },
  {
   "cell_type": "code",
   "execution_count": 18,
   "id": "1946e7a9-cfa1-47fa-b4ba-f5c555b7e588",
   "metadata": {},
   "outputs": [],
   "source": [
    "class vehicle:\n",
    "    \n",
    "    def __init__(self,nameofvehicle, maxspeed , averageofvehicle):\n",
    "        self.name_of_vehicle = nameofvehicle\n",
    "        self.max_speed = maxspeed\n",
    "        self.average_of_vehicle =averageofvehicle\n",
    "        \n",
    "    def vehicle_details(self):\n",
    "        return self.name_of_vehicle , self.max_speed , self.average_of_vehicle"
   ]
  },
  {
   "cell_type": "code",
   "execution_count": 19,
   "id": "d3fd1fb3-3828-461d-8afd-67c50c3ff1d8",
   "metadata": {},
   "outputs": [],
   "source": [
    "vehicle1 = vehicle('Audi Q8',230 , 10)"
   ]
  },
  {
   "cell_type": "code",
   "execution_count": 20,
   "id": "245828cb-e809-45c0-bf76-c6d2de46da16",
   "metadata": {},
   "outputs": [
    {
     "data": {
      "text/plain": [
       "10"
      ]
     },
     "execution_count": 20,
     "metadata": {},
     "output_type": "execute_result"
    }
   ],
   "source": [
    "vehicle1.average_of_vehicle"
   ]
  },
  {
   "cell_type": "code",
   "execution_count": 21,
   "id": "1321f02e-3c2d-453b-bc47-11ef6f7a80d6",
   "metadata": {},
   "outputs": [
    {
     "data": {
      "text/plain": [
       "230"
      ]
     },
     "execution_count": 21,
     "metadata": {},
     "output_type": "execute_result"
    }
   ],
   "source": [
    "vehicle1.max_speed"
   ]
  },
  {
   "cell_type": "code",
   "execution_count": 22,
   "id": "b812662d-e258-48fd-9d00-f9b1dc38971a",
   "metadata": {},
   "outputs": [
    {
     "data": {
      "text/plain": [
       "'Audi Q8'"
      ]
     },
     "execution_count": 22,
     "metadata": {},
     "output_type": "execute_result"
    }
   ],
   "source": [
    "vehicle1.name_of_vehicle"
   ]
  },
  {
   "cell_type": "markdown",
   "id": "5e5cf276-5295-465d-9d9e-fdf90e34d1ad",
   "metadata": {},
   "source": [
    "Q2. Create a child class car from the vehicle class created in Que 1, which will inherit the vehicle class.\n",
    "Create a method named seating_capacity which takes capacity as an argument and returns the name of\n",
    "the vehicle and its seating capacity."
   ]
  },
  {
   "cell_type": "code",
   "execution_count": 23,
   "id": "6a3b127b-718f-4a6f-95e4-2d136119827d",
   "metadata": {},
   "outputs": [],
   "source": [
    "class child_class(vehicle):\n",
    "    \n",
    "    def seatcapacity(self,seat_capacity):\n",
    "        self.seating_capacity = seat_capacity\n",
    "        return self.name_of_vehicle , self.seating_capacity\n",
    "    "
   ]
  },
  {
   "cell_type": "code",
   "execution_count": 24,
   "id": "7a0a75e1-e3a3-42b0-83b6-c81a415111aa",
   "metadata": {},
   "outputs": [],
   "source": [
    "childclass = child_class('Audi Q8',230,10)"
   ]
  },
  {
   "cell_type": "code",
   "execution_count": 25,
   "id": "efbc42dd-91cb-4a4e-983b-9933bd21bed9",
   "metadata": {},
   "outputs": [
    {
     "data": {
      "text/plain": [
       "('Audi Q8', 4)"
      ]
     },
     "execution_count": 25,
     "metadata": {},
     "output_type": "execute_result"
    }
   ],
   "source": [
    "childclass.seatcapacity(4)"
   ]
  },
  {
   "cell_type": "markdown",
   "id": "3a48b8b8-fbac-4d49-92ea-c4aae6afd339",
   "metadata": {},
   "source": [
    "Q3. What is multiple inheritance? Write a python code to demonstrate multiple inheritance."
   ]
  },
  {
   "cell_type": "raw",
   "id": "8b7be8a1-8b3c-43d2-903d-fbfa1c29c217",
   "metadata": {},
   "source": [
    "Multiple Inheritance \n",
    "When a class is derived from more than one base class it is called multiple Inheritance. The derived class inherits all the features of the base case."
   ]
  },
  {
   "cell_type": "code",
   "execution_count": 26,
   "id": "ae569dd6-303e-417e-8748-b208f91f2685",
   "metadata": {},
   "outputs": [],
   "source": [
    "class class_1:\n",
    "    \n",
    "    def class1(self):\n",
    "        return 'Its class1'"
   ]
  },
  {
   "cell_type": "code",
   "execution_count": 27,
   "id": "66e418a4-6ddb-40a5-a3d2-a2fcd8102994",
   "metadata": {},
   "outputs": [],
   "source": [
    "class class_2:\n",
    "    \n",
    "    def class2(self):\n",
    "        return 'Its class2'"
   ]
  },
  {
   "cell_type": "code",
   "execution_count": 28,
   "id": "e3f5db39-85cf-406a-b6c9-efe88144434f",
   "metadata": {},
   "outputs": [],
   "source": [
    "class class_3(class_1, class_2):\n",
    "    pass"
   ]
  },
  {
   "cell_type": "code",
   "execution_count": 29,
   "id": "c45656fd-3c4f-4fce-a1de-5cae4728aa26",
   "metadata": {},
   "outputs": [],
   "source": [
    "multi_inheritance = class_3()"
   ]
  },
  {
   "cell_type": "code",
   "execution_count": 30,
   "id": "b3136608-1f26-46ec-a5bf-f4792cd8c716",
   "metadata": {},
   "outputs": [
    {
     "data": {
      "text/plain": [
       "'Its class1'"
      ]
     },
     "execution_count": 30,
     "metadata": {},
     "output_type": "execute_result"
    }
   ],
   "source": [
    "multi_inheritance.class1()"
   ]
  },
  {
   "cell_type": "code",
   "execution_count": 31,
   "id": "225bc60e-a8e9-4ae1-979f-220e5caa0359",
   "metadata": {},
   "outputs": [
    {
     "data": {
      "text/plain": [
       "'Its class2'"
      ]
     },
     "execution_count": 31,
     "metadata": {},
     "output_type": "execute_result"
    }
   ],
   "source": [
    "multi_inheritance.class2()"
   ]
  },
  {
   "cell_type": "markdown",
   "id": "55c46602-d8a9-4d05-bf1a-348667c7eb11",
   "metadata": {},
   "source": [
    "Q4. What are getter and setter in python? Create a class and create a getter and a setter method in this\n",
    "class."
   ]
  },
  {
   "cell_type": "markdown",
   "id": "eb7c6daf-6020-473b-ab72-8d51ab9a4f1c",
   "metadata": {},
   "source": [
    "Getter and Setter methods are used to control access to the attributes (variables) of a class. They are commonly used to enforce encapsulation, which means that the internal state of an object should not be directly accessed from outside the class. Instead, you provide methods to get and set the values of attributes."
   ]
  },
  {
   "cell_type": "code",
   "execution_count": 8,
   "id": "cdf4e782-498d-4514-932d-b83359ea65c6",
   "metadata": {},
   "outputs": [],
   "source": [
    "class Student:\n",
    "    \n",
    "    def __init__(self, name , age , course):\n",
    "        self.__name = name\n",
    "        self.__age = age\n",
    "        self.__course = course\n",
    "        \n",
    "   #below use of getter and setter method\n",
    "    \n",
    "    def get_age(self):\n",
    "        return self.__age\n",
    "    \n",
    "    def set_age(self, new_age):\n",
    "        self.__age = new_age\n",
    "        \n",
    "    "
   ]
  },
  {
   "cell_type": "code",
   "execution_count": 9,
   "id": "d6c0777f-e1e2-43e1-ac12-48dd97277b87",
   "metadata": {},
   "outputs": [],
   "source": [
    "rahul = Student('Rahul',18, 'Data Science')"
   ]
  },
  {
   "cell_type": "code",
   "execution_count": 10,
   "id": "fabf55de-131e-440c-9c54-86fc6487dc38",
   "metadata": {},
   "outputs": [],
   "source": [
    "rahul.set_age(1)"
   ]
  },
  {
   "cell_type": "code",
   "execution_count": 11,
   "id": "704e0671-69f9-4ca5-89ba-f7d57d7ae5e9",
   "metadata": {},
   "outputs": [
    {
     "data": {
      "text/plain": [
       "1"
      ]
     },
     "execution_count": 11,
     "metadata": {},
     "output_type": "execute_result"
    }
   ],
   "source": [
    "rahul.get_age()"
   ]
  },
  {
   "cell_type": "code",
   "execution_count": 12,
   "id": "be2156be-14b1-41ea-a253-94e1dcdc7f4a",
   "metadata": {},
   "outputs": [],
   "source": [
    "rahul.set_age(15)"
   ]
  },
  {
   "cell_type": "code",
   "execution_count": 13,
   "id": "25663d5c-9ded-4f57-b33a-480ec2d30748",
   "metadata": {},
   "outputs": [
    {
     "data": {
      "text/plain": [
       "15"
      ]
     },
     "execution_count": 13,
     "metadata": {},
     "output_type": "execute_result"
    }
   ],
   "source": [
    "rahul.get_age()"
   ]
  },
  {
   "cell_type": "markdown",
   "id": "778c7f70-df52-4b3e-b33f-ea85c97eddbf",
   "metadata": {},
   "source": [
    "Q5.What is method overriding in python? Write a python code to demonstrate method overriding."
   ]
  },
  {
   "cell_type": "raw",
   "id": "e4d15dd5-e3cb-4375-a1f7-f5d112dd9645",
   "metadata": {},
   "source": [
    "Method overrirding is allows to redefine a method in a derived class. OR it's a way to customize the behavior of a class based on its specific needs.\n",
    "Example is given below -"
   ]
  },
  {
   "cell_type": "code",
   "execution_count": 14,
   "id": "6660cec0-fe9c-46d6-908c-f970f1a24f5b",
   "metadata": {},
   "outputs": [],
   "source": [
    "class A:\n",
    "    \n",
    "    def show(self):\n",
    "        print('in A show')"
   ]
  },
  {
   "cell_type": "code",
   "execution_count": 15,
   "id": "a289fbf1-ffff-4258-9aa6-877218867104",
   "metadata": {},
   "outputs": [],
   "source": [
    "class B(A):\n",
    "    \n",
    "    def show(self):\n",
    "        print('in B show')"
   ]
  },
  {
   "cell_type": "code",
   "execution_count": 20,
   "id": "638f86d2-1c1f-4d0a-85b4-ad7d07403b43",
   "metadata": {},
   "outputs": [],
   "source": [
    "a= B()"
   ]
  },
  {
   "cell_type": "code",
   "execution_count": 21,
   "id": "d10e13ac-6be6-40da-937b-b2504d9db152",
   "metadata": {},
   "outputs": [
    {
     "name": "stdout",
     "output_type": "stream",
     "text": [
      "in B show\n"
     ]
    }
   ],
   "source": [
    "a.show()"
   ]
  },
  {
   "cell_type": "code",
   "execution_count": null,
   "id": "dabe694d-7ff0-4090-b721-4928ad38be41",
   "metadata": {},
   "outputs": [],
   "source": []
  }
 ],
 "metadata": {
  "kernelspec": {
   "display_name": "Python 3 (ipykernel)",
   "language": "python",
   "name": "python3"
  },
  "language_info": {
   "codemirror_mode": {
    "name": "ipython",
    "version": 3
   },
   "file_extension": ".py",
   "mimetype": "text/x-python",
   "name": "python",
   "nbconvert_exporter": "python",
   "pygments_lexer": "ipython3",
   "version": "3.10.8"
  }
 },
 "nbformat": 4,
 "nbformat_minor": 5
}
